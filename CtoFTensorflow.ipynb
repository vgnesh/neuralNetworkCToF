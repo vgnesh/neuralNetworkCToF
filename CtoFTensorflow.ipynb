{
  "nbformat": 4,
  "nbformat_minor": 0,
  "metadata": {
    "colab": {
      "name": "CtoFTensorflow.ipynb",
      "provenance": [],
      "authorship_tag": "ABX9TyNbJZn3HPLFXenfzmlTCLOj",
      "include_colab_link": true
    },
    "kernelspec": {
      "name": "python3",
      "display_name": "Python 3"
    }
  },
  "cells": [
    {
      "cell_type": "markdown",
      "metadata": {
        "id": "view-in-github",
        "colab_type": "text"
      },
      "source": [
        "<a href=\"https://colab.research.google.com/github/vgnesh/neuralNetworkCToF/blob/master/CtoFTensorflow.ipynb\" target=\"_parent\"><img src=\"https://colab.research.google.com/assets/colab-badge.svg\" alt=\"Open In Colab\"/></a>"
      ]
    },
    {
      "cell_type": "markdown",
      "metadata": {
        "id": "PHX45NOzb6bf",
        "colab_type": "text"
      },
      "source": [
        "## Celsius to Fahreheit using neural network\n",
        "\n"
      ]
    },
    {
      "cell_type": "code",
      "metadata": {
        "id": "36w0oHuvWvWs",
        "colab_type": "code",
        "colab": {}
      },
      "source": [
        "import tensorflow as tf\n",
        "import numpy as np\n",
        "import logging\n",
        "logger = tf.get_logger()\n",
        "logger.setLevel(logging.ERROR)"
      ],
      "execution_count": 0,
      "outputs": []
    },
    {
      "cell_type": "markdown",
      "metadata": {
        "id": "wmpbGJaWa_ol",
        "colab_type": "text"
      },
      "source": [
        "## Training data\n",
        "\n",
        "Input is i_celsius and output is o_fahrenheit"
      ]
    },
    {
      "cell_type": "code",
      "metadata": {
        "id": "gp7EKB_bZJmc",
        "colab_type": "code",
        "colab": {}
      },
      "source": [
        "i_celsius    = np.array([-40, -10,  0,  8, 15, 22,  38],  dtype=float)\n",
        "o_fahrenheit = np.array([-40,  14, 32, 46, 59, 72, 100],  dtype=float)"
      ],
      "execution_count": 0,
      "outputs": []
    },
    {
      "cell_type": "markdown",
      "metadata": {
        "id": "RLxdz12xcWzw",
        "colab_type": "text"
      },
      "source": [
        "## Create the model"
      ]
    },
    {
      "cell_type": "code",
      "metadata": {
        "id": "MsI-ObtOclSo",
        "colab_type": "code",
        "colab": {}
      },
      "source": [
        "l = tf.keras.layers.Dense(units=1, input_shape=[1])\n",
        "model = tf.keras.Sequential([l])\n",
        "model.compile(loss='mean_squared_error',\n",
        "              optimizer=tf.optimizers.Adam(0.1))"
      ],
      "execution_count": 0,
      "outputs": []
    },
    {
      "cell_type": "markdown",
      "metadata": {
        "id": "RSkNt8HqeMjJ",
        "colab_type": "text"
      },
      "source": [
        "## Train the model"
      ]
    },
    {
      "cell_type": "code",
      "metadata": {
        "id": "mSZG_yCxeP2G",
        "colab_type": "code",
        "colab": {
          "base_uri": "https://localhost:8080/",
          "height": 34
        },
        "outputId": "f65ac495-46b3-4735-e32b-d20752e8ef0c"
      },
      "source": [
        "model.fit(i_celsius, o_fahrenheit, epochs=500, verbose=False)\n",
        "print('Finished training')"
      ],
      "execution_count": 10,
      "outputs": [
        {
          "output_type": "stream",
          "text": [
            "Finished training\n"
          ],
          "name": "stdout"
        }
      ]
    },
    {
      "cell_type": "markdown",
      "metadata": {
        "id": "joYl9ZCGerTb",
        "colab_type": "text"
      },
      "source": [
        "## Inference"
      ]
    },
    {
      "cell_type": "code",
      "metadata": {
        "id": "7hQI_RdoeqhC",
        "colab_type": "code",
        "colab": {
          "base_uri": "https://localhost:8080/",
          "height": 34
        },
        "outputId": "bcc37477-cb1f-4084-b578-022748c3e0a2"
      },
      "source": [
        "print(model.predict([42]))"
      ],
      "execution_count": 6,
      "outputs": [
        {
          "output_type": "stream",
          "text": [
            "[[105.7673]]\n"
          ],
          "name": "stdout"
        }
      ]
    },
    {
      "cell_type": "code",
      "metadata": {
        "id": "1fyMJgLHfD1Q",
        "colab_type": "code",
        "colab": {
          "base_uri": "https://localhost:8080/",
          "height": 34
        },
        "outputId": "a5e0316a-da6e-4ab9-e82d-bac8da443a64"
      },
      "source": [
        "print(l.get_weights())"
      ],
      "execution_count": 11,
      "outputs": [
        {
          "output_type": "stream",
          "text": [
            "[array([[1.7979496]], dtype=float32), array([31.952482], dtype=float32)]\n"
          ],
          "name": "stdout"
        }
      ]
    }
  ]
}